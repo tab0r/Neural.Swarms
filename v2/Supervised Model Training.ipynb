{
 "cells": [
  {
   "cell_type": "code",
   "execution_count": 6,
   "metadata": {},
   "outputs": [],
   "source": [
    "from supervised_training import *"
   ]
  },
  {
   "cell_type": "code",
   "execution_count": 7,
   "metadata": {},
   "outputs": [
    {
     "name": "stdout",
     "output_type": "stream",
     "text": [
      "Generating training data\n",
      "Data generated, now fitting network\n",
      "Epoch 1/10\n",
      "10000/10000 [==============================] - 0s - loss: 0.1336     \n",
      "Epoch 2/10\n",
      "10000/10000 [==============================] - 0s - loss: 0.0746     - ETA: 0s - loss: 0.07\n",
      "Epoch 3/10\n",
      "10000/10000 [==============================] - 0s - loss: 0.0481     \n",
      "Epoch 4/10\n",
      "10000/10000 [==============================] - 0s - loss: 0.0328     \n",
      "Epoch 5/10\n",
      "10000/10000 [==============================] - 0s - loss: 0.0246     \n",
      "Epoch 6/10\n",
      "10000/10000 [==============================] - 0s - loss: 0.0198     \n",
      "Epoch 7/10\n",
      "10000/10000 [==============================] - 0s - loss: 0.0171     \n",
      "Epoch 8/10\n",
      "10000/10000 [==============================] - 0s - loss: 0.0152     \n",
      "Epoch 9/10\n",
      "10000/10000 [==============================] - 0s - loss: 0.0138     \n",
      "Epoch 10/10\n",
      "10000/10000 [==============================] - 0s - loss: 0.0127     \n",
      "Network and final validation data ready for testing.\n"
     ]
    }
   ],
   "source": [
    "# game variables\n",
    "epochs = 10\n",
    "batch_size = 10\n",
    "learning_rate = 0.01\n",
    "steps = 1000\n",
    "training_game_size = 8\n",
    "\n",
    "\n",
    "# number of epochs for training\n",
    "epochs = epochs\n",
    "batch_size = batch_size\n",
    "\n",
    "# learning rate\n",
    "learning_rate = learning_rate\n",
    "\n",
    "# optimizer\n",
    "optimizer = Adam()#sgd(lr=learning_rate)\n",
    "optimizer_str = \"Adam\"#\"SGD(lr = \"+str(learning_rate)+\")\"\n",
    "\n",
    "# layers\n",
    "layers = [{\"size\":10,\"activation\":\"tanh\"},\n",
    "{\"size\":10,\"activation\":\"tanh\"}]\n",
    "\n",
    "# number of steps to train on\n",
    "steps = steps\n",
    "\n",
    "# prepare the game for collecting data\n",
    "training_game = SupervisedNaviGame(\n",
    "                    training_game_size,\n",
    "                    training_game_size)\n",
    "\n",
    "# make the model\n",
    "training_game.model = training_game.game_model(optimizer, layers)\n",
    "\n",
    "# setup the game\n",
    "training_game.setup()\n",
    "\n",
    "print(\"Generating training data\")\n",
    "# collect all data to make pickled runs!\n",
    "# stop regenerating the damn data!\n",
    "log, inputs, targets = training_game.train_model(\n",
    "            steps = steps,\n",
    "            epochs = epochs,\n",
    "            batch_size = batch_size,\n",
    "            verbose = 1,)\n",
    "# pull data points of for validation\n",
    "print(\"Network and final validation data ready for testing.\")\n",
    "    # prepare the game for final validation\n"
   ]
  },
  {
   "cell_type": "code",
   "execution_count": 8,
   "metadata": {
    "collapsed": true
   },
   "outputs": [],
   "source": [
    "val_game = SupervisedNaviGame(8, 8, model = training_game.model)"
   ]
  },
  {
   "cell_type": "code",
   "execution_count": 9,
   "metadata": {
    "collapsed": true
   },
   "outputs": [],
   "source": [
    "val_game.setup()"
   ]
  },
  {
   "cell_type": "code",
   "execution_count": 10,
   "metadata": {},
   "outputs": [
    {
     "data": {
      "image/png": "[encoded data removed]",
      "text/plain": [
       "<matplotlib.figure.Figure at 0x10588ba20>"
      ]
     },
     "metadata": {},
     "output_type": "display_data"
    },
    {
     "data": {
      "text/plain": [
       "None"
      ]
     },
     "metadata": {},
     "output_type": "display_data"
    }
   ],
   "source": [
    "animate_game(val_game, n = 10)"
   ]
  },
  {
   "cell_type": "code",
   "execution_count": null,
   "metadata": {
    "collapsed": true
   },
   "outputs": [],
   "source": []
  }
 ],
 "metadata": {
  "kernelspec": {
   "display_name": "Python 3",
   "language": "python",
   "name": "python3"
  },
  "language_info": {
   "codemirror_mode": {
    "name": "ipython",
    "version": 3
   },
   "file_extension": ".py",
   "mimetype": "text/x-python",
   "name": "python",
   "nbconvert_exporter": "python",
   "pygments_lexer": "ipython3",
   "version": "3.6.4"
  }
 },
 "nbformat": 4,
 "nbformat_minor": 2
}
